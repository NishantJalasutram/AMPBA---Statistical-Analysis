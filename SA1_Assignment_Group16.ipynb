{
 "cells": [
  {
   "cell_type": "markdown",
   "metadata": {},
   "source": [
    "## Group Number : 16\n",
    "## Group Members : Nishant Jalasutram, Sravya Neelamraju, Rashmi Gulati\n",
    "## PG IDs : 1202000051,"
   ]
  },
  {
   "cell_type": "code",
   "execution_count": 55,
   "metadata": {},
   "outputs": [],
   "source": [
    "import pandas as pd\n",
    "import math as math\n",
    "import datetime as dt\n",
    "import scipy.stats as st\n",
    "import numpy as np"
   ]
  },
  {
   "cell_type": "code",
   "execution_count": 91,
   "metadata": {},
   "outputs": [
    {
     "name": "stderr",
     "output_type": "stream",
     "text": [
      "C:\\Users\\chitra\\anaconda3\\lib\\site-packages\\IPython\\core\\interactiveshell.py:3146: DtypeWarning: Columns (1) have mixed types.Specify dtype option on import or set low_memory=False.\n",
      "  has_raised = await self.run_ast_nodes(code_ast.body, cell_name,\n"
     ]
    },
    {
     "data": {
      "text/html": [
       "<div>\n",
       "<style scoped>\n",
       "    .dataframe tbody tr th:only-of-type {\n",
       "        vertical-align: middle;\n",
       "    }\n",
       "\n",
       "    .dataframe tbody tr th {\n",
       "        vertical-align: top;\n",
       "    }\n",
       "\n",
       "    .dataframe thead th {\n",
       "        text-align: right;\n",
       "    }\n",
       "</style>\n",
       "<table border=\"1\" class=\"dataframe\">\n",
       "  <thead>\n",
       "    <tr style=\"text-align: right;\">\n",
       "      <th></th>\n",
       "      <th>Index</th>\n",
       "      <th>SL_NO</th>\n",
       "      <th>ST_CODE</th>\n",
       "      <th>DIST_CODE</th>\n",
       "      <th>TTM_CODE</th>\n",
       "      <th>SECTOR_CODE</th>\n",
       "      <th>VT_CODE</th>\n",
       "      <th>WORKED_FOR_1D</th>\n",
       "      <th>CLOSED_Y</th>\n",
       "      <th>OPER_DUR_MM</th>\n",
       "      <th>...</th>\n",
       "      <th>REPAYMENT_DELAY</th>\n",
       "      <th>DECLINE_IN_GOP</th>\n",
       "      <th>DMD_PROB</th>\n",
       "      <th>WORK_CAP_PROB</th>\n",
       "      <th>RAW_MTRL_PROB</th>\n",
       "      <th>POWER_RPOB</th>\n",
       "      <th>LABOUR_PROB</th>\n",
       "      <th>MKT_PROB</th>\n",
       "      <th>EQUIP_PROB</th>\n",
       "      <th>MGMT_PROB</th>\n",
       "    </tr>\n",
       "  </thead>\n",
       "  <tbody>\n",
       "    <tr>\n",
       "      <th>0</th>\n",
       "      <td>23642</td>\n",
       "      <td>43642</td>\n",
       "      <td>28</td>\n",
       "      <td>16</td>\n",
       "      <td>21</td>\n",
       "      <td>2</td>\n",
       "      <td>416030</td>\n",
       "      <td>1</td>\n",
       "      <td></td>\n",
       "      <td>12</td>\n",
       "      <td>...</td>\n",
       "      <td></td>\n",
       "      <td>2</td>\n",
       "      <td></td>\n",
       "      <td></td>\n",
       "      <td></td>\n",
       "      <td></td>\n",
       "      <td></td>\n",
       "      <td></td>\n",
       "      <td></td>\n",
       "      <td></td>\n",
       "    </tr>\n",
       "    <tr>\n",
       "      <th>1</th>\n",
       "      <td>24539</td>\n",
       "      <td>81050</td>\n",
       "      <td>28</td>\n",
       "      <td>13</td>\n",
       "      <td></td>\n",
       "      <td>2</td>\n",
       "      <td>413070</td>\n",
       "      <td>1</td>\n",
       "      <td></td>\n",
       "      <td>12</td>\n",
       "      <td>...</td>\n",
       "      <td></td>\n",
       "      <td>2</td>\n",
       "      <td></td>\n",
       "      <td></td>\n",
       "      <td></td>\n",
       "      <td></td>\n",
       "      <td></td>\n",
       "      <td></td>\n",
       "      <td></td>\n",
       "      <td></td>\n",
       "    </tr>\n",
       "    <tr>\n",
       "      <th>2</th>\n",
       "      <td>41324</td>\n",
       "      <td>1026</td>\n",
       "      <td>28</td>\n",
       "      <td>1</td>\n",
       "      <td>32</td>\n",
       "      <td>1</td>\n",
       "      <td>1139</td>\n",
       "      <td>1</td>\n",
       "      <td></td>\n",
       "      <td>6</td>\n",
       "      <td>...</td>\n",
       "      <td></td>\n",
       "      <td>2</td>\n",
       "      <td></td>\n",
       "      <td></td>\n",
       "      <td></td>\n",
       "      <td></td>\n",
       "      <td></td>\n",
       "      <td></td>\n",
       "      <td></td>\n",
       "      <td></td>\n",
       "    </tr>\n",
       "    <tr>\n",
       "      <th>3</th>\n",
       "      <td>11661</td>\n",
       "      <td>15812</td>\n",
       "      <td>28</td>\n",
       "      <td>15</td>\n",
       "      <td>37</td>\n",
       "      <td>2</td>\n",
       "      <td>19635</td>\n",
       "      <td>1</td>\n",
       "      <td></td>\n",
       "      <td>6</td>\n",
       "      <td>...</td>\n",
       "      <td></td>\n",
       "      <td>1</td>\n",
       "      <td>1</td>\n",
       "      <td>1</td>\n",
       "      <td>2</td>\n",
       "      <td>2</td>\n",
       "      <td>2</td>\n",
       "      <td>1</td>\n",
       "      <td>2</td>\n",
       "      <td>2</td>\n",
       "    </tr>\n",
       "    <tr>\n",
       "      <th>4</th>\n",
       "      <td>17463</td>\n",
       "      <td>61915</td>\n",
       "      <td>28</td>\n",
       "      <td>19</td>\n",
       "      <td>2</td>\n",
       "      <td>1</td>\n",
       "      <td>22631</td>\n",
       "      <td>1</td>\n",
       "      <td></td>\n",
       "      <td>7</td>\n",
       "      <td>...</td>\n",
       "      <td></td>\n",
       "      <td>2</td>\n",
       "      <td></td>\n",
       "      <td></td>\n",
       "      <td></td>\n",
       "      <td></td>\n",
       "      <td></td>\n",
       "      <td></td>\n",
       "      <td></td>\n",
       "      <td></td>\n",
       "    </tr>\n",
       "  </tbody>\n",
       "</table>\n",
       "<p>5 rows × 65 columns</p>\n",
       "</div>"
      ],
      "text/plain": [
       "   Index  SL_NO  ST_CODE  DIST_CODE TTM_CODE  SECTOR_CODE VT_CODE  \\\n",
       "0  23642  43642       28         16       21            2  416030   \n",
       "1  24539  81050       28         13                     2  413070   \n",
       "2  41324   1026       28          1       32            1    1139   \n",
       "3  11661  15812       28         15       37            2   19635   \n",
       "4  17463  61915       28         19        2            1   22631   \n",
       "\n",
       "   WORKED_FOR_1D CLOSED_Y  OPER_DUR_MM  ... REPAYMENT_DELAY  DECLINE_IN_GOP  \\\n",
       "0              1                    12  ...                               2   \n",
       "1              1                    12  ...                               2   \n",
       "2              1                     6  ...                               2   \n",
       "3              1                     6  ...                               1   \n",
       "4              1                     7  ...                               2   \n",
       "\n",
       "   DMD_PROB WORK_CAP_PROB  RAW_MTRL_PROB POWER_RPOB  LABOUR_PROB  MKT_PROB  \\\n",
       "0                                                                            \n",
       "1                                                                            \n",
       "2                                                                            \n",
       "3         1             1              2          2            2         1   \n",
       "4                                                                            \n",
       "\n",
       "   EQUIP_PROB  MGMT_PROB  \n",
       "0                         \n",
       "1                         \n",
       "2                         \n",
       "3           2          2  \n",
       "4                         \n",
       "\n",
       "[5 rows x 65 columns]"
      ]
     },
     "execution_count": 91,
     "metadata": {},
     "output_type": "execute_result"
    }
   ],
   "source": [
    "df = pd.read_csv(\"SA1_Group_16.csv\")\n",
    "df = df.infer_objects()\n",
    "df.head()"
   ]
  },
  {
   "cell_type": "markdown",
   "metadata": {},
   "source": [
    "### Dropping columns with more than 20% nulls and unnecessary columns"
   ]
  },
  {
   "cell_type": "code",
   "execution_count": 92,
   "metadata": {},
   "outputs": [],
   "source": [
    "# Replacing all spaces with nulls \n",
    "\n",
    "df.replace({' ':None},inplace=True)\n",
    "\n",
    "# # Ignoring columns with more than 20% null values\n",
    "# s1 = df.isnull().mean()*100 > 20\n",
    "# df.drop(columns=list(s1[s1.values].index),inplace=True)\n",
    "\n",
    "# # Removing few more columns which do not have any significance\n",
    "\n",
    "# list1 = ['ST_CODE','NET_STATUS_Year2', 'OS_LOAN_Year3', 'DIST_CODE', 'KNOW_HOW', 'MAN_CASTE', 'DECLINE_IN_GOP', \n",
    "# 'COMP_EXIST','ACC_EXIST','REG_UNDER_SPR','MAN_BY','OPER_NATURE','ACTI_NATURE','ANCI_UNIT','SURVEY_CODE','WORKED_FOR_1D',\n",
    "# 'NIC_CODE']\n",
    "# df.drop(columns=list1,inplace=True)\n",
    "# df.shape"
   ]
  },
  {
   "cell_type": "markdown",
   "metadata": {},
   "source": [
    "### Creating two metrics necessary for our calculations:\n",
    "#### a) Return on assets = (Net worth at the end of Year 3)/(Market value of Fixed assets at the end of Year 3)\n",
    "#### b) Gross output per employee = (Gross output at the end of Year 3)/(Total number of employees)"
   ]
  },
  {
   "cell_type": "code",
   "execution_count": 93,
   "metadata": {},
   "outputs": [],
   "source": [
    "df['GOP3_PerEmp'] = df['GOP_Year3']/df['EMP_TOTAL']\n",
    "df['returnOnAssets'] = df['NET_Year3']/df['MKT_VAL_FA']"
   ]
  },
  {
   "cell_type": "markdown",
   "metadata": {},
   "source": [
    "### Removing invalid values:\n",
    "#### Ex: \n",
    "##### 1. Removing rows where MKT_VAL_FA = 0 as their existence will result in \"inf\" value in returnOnAssets column\n",
    "##### 2. Removing rows where the z-score of the variable is beyond 4"
   ]
  },
  {
   "cell_type": "code",
   "execution_count": 94,
   "metadata": {},
   "outputs": [],
   "source": [
    "# 1. Removing rows where MKT_VAL_FA as we cannot have divide by 0 which results to inf\n",
    "\n",
    "df.drop(index=df[df['MKT_VAL_FA'] == 0].index.values,axis=0,inplace=True)"
   ]
  },
  {
   "cell_type": "code",
   "execution_count": 97,
   "metadata": {},
   "outputs": [],
   "source": [
    "# # 2. Removing rows where the z-score of the variable is beyond 4\n",
    "\n",
    "df['GOPEMP_Z'] = st.zscore(df['GOP3_PerEmp'])\n",
    "df.drop(index=df[df['GOPEMP_Z'] > 4].index.values,axis=0,inplace=True)\n",
    "\n",
    "df['ROA_Z'] = st.zscore(df['returnOnAssets'])\n",
    "df.drop(index=df[df['ROA_Z'] > 4].index.values,axis=0,inplace=True)\n",
    "\n",
    "# df[df['GOPEMP_Z'] > 4]\n",
    "\n",
    "# # len(df[df['ROA_Z'] > 4].index.values)"
   ]
  },
  {
   "cell_type": "code",
   "execution_count": 95,
   "metadata": {},
   "outputs": [
    {
     "data": {
      "text/plain": [
       "(9967, 67)"
      ]
     },
     "execution_count": 95,
     "metadata": {},
     "output_type": "execute_result"
    }
   ],
   "source": [
    "df.shape"
   ]
  },
  {
   "cell_type": "code",
   "execution_count": 43,
   "metadata": {},
   "outputs": [],
   "source": [
    "# IQR_GOP3 = st.iqr(df['GOP_Year3'])\n",
    "# Q1_GOP3 = np.quantile(df['GOP_Year3'],0.25)\n",
    "# Q3_GOP3 = np.quantile(df['GOP_Year3'],0.75)\n",
    "\n",
    "# L_Outlier_GOP3 = Q1_GOP3 - 1.5*IQR_GOP3\n",
    "# H_Outlier_GOP3 = Q3_GOP3 + 1.5*IQR_GOP3\n",
    "\n",
    "# df.drop(df[(df['GOP_Year3'] < L_Outlier_GOP3) | (df['GOP_Year3'] > H_Outlier_GOP3)].index.values,axis=0,inplace=True)"
   ]
  },
  {
   "cell_type": "code",
   "execution_count": 44,
   "metadata": {},
   "outputs": [],
   "source": [
    "# IQR_ROA = st.iqr(df['returnOnAssets'])\n",
    "# Q1_ROA = np.quantile(df['returnOnAssets'],0.25)\n",
    "# Q3_ROA = np.quantile(df['returnOnAssets'],0.75)\n",
    "\n",
    "# L_Outlier_ROA = Q1_ROA - 1.5*IQR_ROA\n",
    "# H_Outlier_ROA = Q3_ROA + 1.5*IQR_ROA\n",
    "\n",
    "# df.drop(df[(df['returnOnAssets'] < L_Outlier_ROA) | (df['returnOnAssets'] > H_Outlier_ROA)].index.values,axis=0,inplace=True)"
   ]
  },
  {
   "cell_type": "code",
   "execution_count": 45,
   "metadata": {},
   "outputs": [],
   "source": [
    "# IQR_GOPEMP = st.iqr(df['GOP3_PerEmp'])\n",
    "# Q1_GOPEMP = np.quantile(df['GOP3_PerEmp'],0.25)\n",
    "# Q3_GOPEMP = np.quantile(df['GOP3_PerEmp'],0.75)\n",
    "\n",
    "# L_Outlier_GOPEMP = Q1_GOPEMP - 1.5*IQR_GOPEMP\n",
    "# H_Outlier_GOPEMP = Q3_GOPEMP + 1.5*IQR_GOPEMP\n",
    "\n",
    "# df.drop(df[(df['GOP3_PerEmp'] < L_Outlier_GOPEMP) | (df['GOP3_PerEmp'] > H_Outlier_GOPEMP)].index.values,axis=0,inplace=True)"
   ]
  },
  {
   "cell_type": "code",
   "execution_count": 99,
   "metadata": {},
   "outputs": [
    {
     "data": {
      "text/plain": [
       "9915"
      ]
     },
     "execution_count": 99,
     "metadata": {},
     "output_type": "execute_result"
    }
   ],
   "source": [
    "df.shape\n",
    "samplesize"
   ]
  },
  {
   "cell_type": "markdown",
   "metadata": {},
   "source": [
    "### Note: We do not know the population standard deviation Sigma. However, the sample given is 10,000 and is a large sample. Hence we can use z-score instead of t-score and use sample standard deviation for calculating the confidence intervals."
   ]
  },
  {
   "cell_type": "markdown",
   "metadata": {},
   "source": [
    "### 1. Calculate a 95 percent confidence interval for the “Gross output – Year 3 (Rs)”"
   ]
  },
  {
   "cell_type": "code",
   "execution_count": 131,
   "metadata": {},
   "outputs": [
    {
     "name": "stdout",
     "output_type": "stream",
     "text": [
      "95% Confidence Interval for Gross Output Year 3 (Rs): [1362437.61, 1965975.61]\n"
     ]
    }
   ],
   "source": [
    "# We can calculate the sample mean, sample std. dev. for the column Gross Output - Year 3 (Rs.)\n",
    "\n",
    "meanGOP3 = df.GOP_Year3.mean()\n",
    "stdevGOP3 = df.GOP_Year3.std()\n",
    "samplesize = df.GOP_Year3.count()\n",
    "\n",
    "# Based on z table, z score for 95% CI is +/- 1.96\n",
    "\n",
    "upperLimGOP3 = meanGOP3 + 1.96 * (stdevGOP3/math.sqrt(samplesize))\n",
    "lowerLimGOP3 = meanGOP3 - 1.96 * (stdevGOP3/math.sqrt(samplesize))\n",
    "    \n",
    "print(\"95%% Confidence Interval for Gross Output Year 3 (Rs): [%.2f, %.2f]\"%(lowerLimGOP3, upperLimGOP3))"
   ]
  },
  {
   "cell_type": "markdown",
   "metadata": {},
   "source": [
    "### 2. Define two different measures that you consider most appropriate for measuring the performance of the units.  This definition is up to you.  These can be the variables that are already in the data or new variables defined based on the existing variables.  \n",
    "\n",
    "### For example, you can define a metric “Gross output per employee” by dividing the gross output of the year by the total number of employees. Please explain in one paragraph why you have selected these two measures and why you think they are most appropriate. Remaining analysis is to be carried out based on these definitions."
   ]
  },
  {
   "cell_type": "code",
   "execution_count": null,
   "metadata": {},
   "outputs": [],
   "source": [
    "# Two measures are taken in to account for our analysis:\n",
    "\n",
    "# a) Return on assets = (Net worth at the end of Year 3)/(Market value of Fixed assets at the end of Year 3)\n",
    "#    - Return on assets (ROA) is an indicator of how profitable a company is relative to its total assets. \n",
    "#      ROA gives a manager, investor, or analyst an idea as to how efficient a company's management is at using its assets to generate earnings. \n",
    "#      Return on assets is displayed as a percentage; the higher the ROA the better. \n",
    "#      Source : Investopedia.com\n",
    "# b) Gross output per employee = (Gross output at the end of Year 3)/(Total number of employees)\n",
    "#    - This metric indicates the gross output generated in the year3 per each employee. \n",
    "#      It indicates how efficient are the employees performing in the units for generating the output. \n",
    "#      The higher this value, the better is the performance of the unit.\n",
    "\n",
    "# a) df['returnOnAssets']\n",
    "# b) df['GOP3_PerEmp']"
   ]
  },
  {
   "cell_type": "markdown",
   "metadata": {},
   "source": [
    "### 3.\tCalculate 99% confidence interval for the population mean for each of the two metrics defined by you.  Interpret these confidence intervals in terms of their relevance to the management."
   ]
  },
  {
   "cell_type": "code",
   "execution_count": 135,
   "metadata": {},
   "outputs": [
    {
     "name": "stdout",
     "output_type": "stream",
     "text": [
      "99% Confidence Interval for Return on Assets: [1.32%, 1.39%]\n",
      "99% Confidence Interval for Gross output per employee in Year 3 (Rs.): [124346.55, 151664.67]\n"
     ]
    }
   ],
   "source": [
    "# z score for 99% interval = 2.576\n",
    "\n",
    "# 1. Taking first variable i.e., return on Assets\n",
    "\n",
    "meanROA = df['returnOnAssets'].mean()\n",
    "sdROA = df['returnOnAssets'].std()\n",
    "\n",
    "ROA_LL = meanROA - (2.576 * (sdROA/math.sqrt(samplesize)))\n",
    "ROA_UL = meanROA + (2.576 * (sdROA/math.sqrt(samplesize)))\n",
    "\n",
    "print(\"99%% Confidence Interval for Return on Assets: [%.2f%%, %.2f%%]\"%(ROA_LL,ROA_UL))\n",
    "\n",
    "# 2. Taking second variable i.e., Gross output per employee in Year 3\n",
    "\n",
    "meanGOP3_PerEmp = df['GOP3_PerEmp'].mean()\n",
    "sdGOP3_PerEmp = df['GOP3_PerEmp'].std()\n",
    "\n",
    "GOP3_PerEmp_LL = meanGOP3_PerEmp - (2.576 * (sdGOP3_PerEmp/math.sqrt(samplesize)))\n",
    "GOP3_PerEmp_UL = meanGOP3_PerEmp + (2.576 * (sdGOP3_PerEmp/math.sqrt(samplesize)))\n",
    "\n",
    "print(\"99%% Confidence Interval for Gross output per employee in Year 3 (Rs.): [%.2f, %.2f]\"%(GOP3_PerEmp_LL,GOP3_PerEmp_UL))"
   ]
  },
  {
   "cell_type": "markdown",
   "metadata": {},
   "source": [
    "### 4 a. What is the probability that a firm selected at random is a SSSBE unit?\n",
    "### b. What is the probability that a firm selected at random is GOOD in performance? (Calculate the average of the first performance measure that you had defined in question 2 above.  If the firm’s performance is above this average, it considered good. If it is below average, it is considered Bad)\n",
    "### c. What is the probability that a firm selected is a SSSBE Unit and ALSO GOOD in performance? \n",
    "### d. What can you say about the performance of the SSSBE units in terms of GOOD or BAD based on the probabilities calculated above?\n"
   ]
  },
  {
   "cell_type": "code",
   "execution_count": 144,
   "metadata": {},
   "outputs": [
    {
     "name": "stdout",
     "output_type": "stream",
     "text": [
      "Probability of a firm selected at random is a SSSBE unit:  0.7789208270297528\n",
      "Probability that a firm selected at random is GOOD in performance:  0.24417549167927383\n",
      "Probability that a firm selected is a SSSBE Unit and ALSO GOOD in performance:  0.0\n",
      "Performance of SSSBE units is bad based on above probability\n"
     ]
    }
   ],
   "source": [
    "# a. Unit type field indicates whether the unit is SSI/SSSBE type.\n",
    "\n",
    "unitCounts = df.groupby('UNIT_TYPE').count()['Index']\n",
    "probOfSSSBE = unitCounts[1]/samplesize\n",
    "\n",
    "print(\"Probability of a firm selected at random is a SSSBE unit: \",probOfSSSBE)\n",
    "\n",
    "# b. The first metric is return on assets. The mean for this value is already calculated in variable meanROA\n",
    "# Find out the count of units which are above or equal to the average of the first metric and then find the probability\n",
    "\n",
    "countOfUnitsAboveROAavg = df[df.loc[:,'returnOnAssets'] >= meanROA].count()['Index']\n",
    "probOfUnitsAboveROAavg = countOfUnitsAboveROAavg/samplesize\n",
    "\n",
    "print(\"Probability that a firm selected at random is GOOD in performance: \", probOfUnitsAboveROAavg)\n",
    "\n",
    "# c. We need a joint probability that a firm is SSSBE unit and Good in performance which is an intersection of units \n",
    "# which are in part a and b of this problem\n",
    "\n",
    "countOfSSSBEUnitsAboveROAavg = df[(df.loc[:,'UNIT_TYPE'] == '2') & (df.loc[:,'returnOnAssets'] >= meanROA)].count()['Index']\n",
    "probOfSSSBEUnitsAboveROAavg = countOfSSSBEUnitsAboveROAavg/samplesize\n",
    "\n",
    "print(\"Probability that a firm selected is a SSSBE Unit and ALSO GOOD in performance: \", probOfSSSBEUnitsAboveROAavg)\n",
    "\n",
    "# d. From the above, we can see clearly that probability of finding a GOOD SSSBE unit is very less \n",
    "# i.e., only 237 units out of 2200 are GOOD. Hence, the performance can be termed as not good.\n",
    "\n",
    "print(\"Performance of SSSBE units is bad based on above probability\")"
   ]
  },
  {
   "cell_type": "markdown",
   "metadata": {},
   "source": [
    "### 5. \tTest the null hypothesis that the population average of the variable “Value of Exports for Year 3” = 87,300.  Carry out a one sided test.  Clearly state your null and alternate hypotheses."
   ]
  },
  {
   "cell_type": "code",
   "execution_count": 136,
   "metadata": {},
   "outputs": [
    {
     "name": "stdout",
     "output_type": "stream",
     "text": [
      "P value for null hypothesis:  1.1176061877110504e-05\n",
      "\n",
      "\n",
      "We can clearly see that p value is much less than alpha at 1%, 5% or 10%. Hence we can reject the null hypothesis.\n"
     ]
    }
   ],
   "source": [
    "# One sided test\n",
    "\n",
    "# I chose to be as a government agency person who wants to evaluate that value of exports are less than 87,300.\n",
    "# I need a conclusive evidence to prove that a factory has significantly lesser than 87,300 exports in Year 3.\n",
    "\n",
    "H0 = \"Value of exports for Year3 is greater than 87,300\"\n",
    "H1 = \"Value of exports for Year 3 is less than 87,300\"\n",
    "\n",
    "popMeanToConsider = 87300\n",
    "sampleMean = df['VOE_Year3'].mean()\n",
    "sampleSD = df['VOE_Year3'].std()\n",
    "alpha = 0.05\n",
    "\n",
    "# Since sample size is large enough, we can use z-score\n",
    "\n",
    "z_score = (sampleMean - popMeanToConsider)/(sampleSD/math.sqrt(samplesize))\n",
    "p_value = st.norm.sf(abs(z_score))\n",
    "print(\"P value for null hypothesis: \",p_value)\n",
    "print(\"\\n\")\n",
    "print(\"We can clearly see that p value is much less than alpha at 1%, 5% or 10%. Hence we can reject the null hypothesis.\")"
   ]
  },
  {
   "cell_type": "markdown",
   "metadata": {},
   "source": [
    "### 6.\tThere is a feeling within the Central Government Department for promotion of small scale units, be it SSSBE or SSI, that if the population proportion is less than 25%, there is a need for providing special incentives.  Based on your sample, would you recommend these special incentives for SSSBE or SSI or both?"
   ]
  },
  {
   "cell_type": "code",
   "execution_count": 146,
   "metadata": {},
   "outputs": [
    {
     "name": "stdout",
     "output_type": "stream",
     "text": [
      "Proportion of SSSBE units in given sample:  0.7789208270297528\n",
      "Proportion of SSI units in given sample:  0.22107917297024715\n",
      "Z score for SSSBE units:  121.62879148514754\n",
      "P value for SSSBE units:  0.0\n",
      "Z score for SSI units:  -6.650532670709063\n",
      "P value for SSI units:  1.4601708283699366e-11\n",
      "We can clearly see that p value is very high for SSSBE units and hence we should accept null hypothesis for SSSBE\n",
      "We can also clearly see that z-score is much higher for SSI units and hence we cannot reject the null hypothesis for SSI\n",
      "We can recommend special incentives for SSSBE units only.\n"
     ]
    }
   ],
   "source": [
    "print(\"Proportion of SSSBE units in given sample: \",probOfSSSBE)\n",
    "print(\"Proportion of SSI units in given sample: \",1-probOfSSSBE)\n",
    "\n",
    "# Let's first state the hypothesis statements for both SSSBE and SSI units separately\n",
    "# We need to have significant evidence to prove that population proportion of either units is less than 25%.\n",
    "# Hence, we need to reject null hypothesis with significant evidence, only then the incentive should be awarded.\n",
    "# Claim of the proportion is to be less than 25%. Status-quo where no incentive is awarded is > 25%\n",
    "\n",
    "H0SSSBE = \"Population prop. of SSSBE units is greater than or equal to 25%\"\n",
    "H1SSSBE = \"Population prop. of SSSBE units is less than 25%\"\n",
    "\n",
    "H0SSI = \"Population prop. of SSI units is greater than or equal to 25%\"\n",
    "H1SSI = \"Population prop. of SSI units is less than 25%\"\n",
    "\n",
    "# Testing the null hypothesis for SSSBE units for proportion\n",
    "\n",
    "sampleProp = probOfSSSBE\n",
    "popMeanToConsider = 0.25\n",
    "# print(sampleProp)\n",
    "z_score_SSSBE = (sampleProp - popMeanToConsider)/math.sqrt((popMeanToConsider*(1-popMeanToConsider))/samplesize)\n",
    "# print(z_score_SSSBE)\n",
    "p_score_SSSBE = st.norm.sf(abs(z_score_SSSBE))\n",
    "print(\"Z score for SSSBE units: \",z_score_SSSBE)\n",
    "print(\"P value for SSSBE units: \",p_score_SSSBE)\n",
    "\n",
    "# Testing the null hypothesis for SSI units for proportion\n",
    "\n",
    "sampleProp = 1-probOfSSSBE\n",
    "popMeanToConsider = 0.25\n",
    "\n",
    "z_score_SSI = (sampleProp - popMeanToConsider)/math.sqrt((popMeanToConsider*(1-popMeanToConsider))/samplesize)\n",
    "#print(z_score_SSI)\n",
    "p_score_SSI = st.norm.sf(abs(z_score_SSI))\n",
    "print(\"Z score for SSI units: \",z_score_SSI)\n",
    "print(\"P value for SSI units: \",p_score_SSI)\n",
    "\n",
    "print(\"We can clearly see that p value is very high for SSSBE units and hence we should accept null hypothesis for SSSBE\")\n",
    "print(\"We can also clearly see that z-score is very less for SSI units and hence we should reject the null hypothesis for SSI\")\n",
    "print(\"We can recommend special incentives for SSI units only.\")"
   ]
  },
  {
   "cell_type": "markdown",
   "metadata": {},
   "source": [
    "### 7.\tSome male chauvinists like to think that a larger proportion of SSSBEs are managed by men as compared to women.  Do you agree with this contention?  Explain your answer with appropriate statistical evidence."
   ]
  },
  {
   "cell_type": "code",
   "execution_count": 52,
   "metadata": {},
   "outputs": [
    {
     "name": "stdout",
     "output_type": "stream",
     "text": [
      "Sample proportion of SSSBE units managed by Women:  0.04261206419479801\n",
      "Z-score based on given sample:  -180.3665635447756\n",
      "We can see that z-score we received is far left compared to any tolerance limit and we accept the null hypothesis.\n",
      "Hence, I disagree that larger proportion of SSSBEs units are managed by women.\n"
     ]
    }
   ],
   "source": [
    "# Preparing null & alternate hypothesis based on the statement given.\n",
    "# There should be evidence that significantly higher proportion of SSSBE units are managed by women\n",
    "# The claim is more women managers exist in SSSBE units. The status-quo is that less women managers exist in SSSBE units\"\n",
    "# We can also say that the claim of the male chauvinists is that the \"Proportion of women managers is > 50%\"\n",
    "# Status-quo goes to Null hypothesis.\n",
    "# Claim goes to Alternate hypothesis.\n",
    "\n",
    "H0MgrGender = \"There are 50% or less women managers in the SSSBE units\"\n",
    "H1MgrGender = \"There are more than 50% women managers in the SSSBE units\"\n",
    "\n",
    "# Note that this is a right tailed test\n",
    "\n",
    "# Gathering sample data and the proportion\n",
    "\n",
    "dfSSSBE = df[df.loc[:,'UNIT_TYPE'] == 2]\n",
    "# WOMAN_ENT = 1 represents managed by Woman, else No\n",
    "\n",
    "mgrCountsSSSSBE = dfSSSBE.groupby('WOMAN_ENT').count()['Index']\n",
    "# mgrCountsSSSSBE\n",
    "print(\"Sample proportion of SSSBE units managed by Women: \",mgrCountsSSSSBE[1]/(mgrCountsSSSSBE[1] + mgrCountsSSSSBE[2]))\n",
    "\n",
    "sampleProp = mgrCountsSSSSBE[1]/(mgrCountsSSSSBE[1] + mgrCountsSSSSBE[2])\n",
    "propToConsider = 0.5\n",
    "\n",
    "z_score = (sampleProp - propToConsider)/math.sqrt((sampleProp*(1-sampleProp))/samplesize)\n",
    "print(\"Z-score based on given sample: \",z_score)\n",
    "\n",
    "print(\"We can see that z-score we received is far left compared to any tolerance limit and we accept the null hypothesis.\")\n",
    "print(\"Hence, I disagree that larger proportion of SSSBEs units are managed by women.\")"
   ]
  },
  {
   "cell_type": "markdown",
   "metadata": {},
   "source": [
    "### 8.\tComment on the distribution of the two metrics (variables) created by you.  Can you conclude that they follow normal distribution?  Explain the rationale for your conclusion."
   ]
  },
  {
   "cell_type": "code",
   "execution_count": 53,
   "metadata": {},
   "outputs": [
    {
     "data": {
      "text/plain": [
       "<AxesSubplot:ylabel='Frequency'>"
      ]
     },
     "execution_count": 53,
     "metadata": {},
     "output_type": "execute_result"
    },
    {
     "data": {
      "image/png": "[encoded data removed]",
      "text/plain": [
       "<Figure size 1080x576 with 1 Axes>"
      ]
     },
     "metadata": {
      "needs_background": "light"
     },
     "output_type": "display_data"
    }
   ],
   "source": [
    "df.loc[:,'returnOnAssets'].value_counts().plot(kind='hist',figsize=(15,8))"
   ]
  },
  {
   "cell_type": "code",
   "execution_count": 54,
   "metadata": {
    "scrolled": true
   },
   "outputs": [
    {
     "data": {
      "text/plain": [
       "<AxesSubplot:ylabel='Frequency'>"
      ]
     },
     "execution_count": 54,
     "metadata": {},
     "output_type": "execute_result"
    },
    {
     "data": {
      "image/png": "[encoded data removed]",
      "text/plain": [
       "<Figure size 1080x576 with 1 Axes>"
      ]
     },
     "metadata": {
      "needs_background": "light"
     },
     "output_type": "display_data"
    }
   ],
   "source": [
    "df.loc[:,'GOP3_PerEmp'].value_counts().plot(kind='hist',figsize=(15,8))"
   ]
  }
 ],
 "metadata": {
  "kernelspec": {
   "display_name": "Python 3",
   "language": "python",
   "name": "python3"
  },
  "language_info": {
   "codemirror_mode": {
    "name": "ipython",
    "version": 3
   },
   "file_extension": ".py",
   "mimetype": "text/x-python",
   "name": "python",
   "nbconvert_exporter": "python",
   "pygments_lexer": "ipython3",
   "version": "3.8.3"
  }
 },
 "nbformat": 4,
 "nbformat_minor": 4
}
